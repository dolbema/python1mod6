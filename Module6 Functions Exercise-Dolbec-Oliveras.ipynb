{
 "cells": [
  {
   "cell_type": "markdown",
   "metadata": {},
   "source": [
    "1. Round 4.5667 to the nearest hundreth using a build-in function, round()."
   ]
  },
  {
   "cell_type": "code",
   "execution_count": 1,
   "metadata": {},
   "outputs": [
    {
     "data": {
      "text/plain": [
       "4.57"
      ]
     },
     "execution_count": 1,
     "metadata": {},
     "output_type": "execute_result"
    }
   ],
   "source": [
    "round(4.5667, 2)"
   ]
  },
  {
   "cell_type": "markdown",
   "metadata": {},
   "source": [
    "2. Convert \"657\" to an integer data type"
   ]
  },
  {
   "cell_type": "code",
   "execution_count": 3,
   "metadata": {},
   "outputs": [
    {
     "name": "stdout",
     "output_type": "stream",
     "text": [
      "657\n"
     ]
    },
    {
     "data": {
      "text/plain": [
       "int"
      ]
     },
     "execution_count": 3,
     "metadata": {},
     "output_type": "execute_result"
    }
   ],
   "source": [
    "num=int(657)\n",
    "print(num)\n",
    "type(num)"
   ]
  },
  {
   "cell_type": "markdown",
   "metadata": {},
   "source": [
    "3.\n",
    "Write a program to get two numbers from a user. Then, create a secret code where a code consists of 6 numbers and each number is randomly generated number between two numbers from a user. "
   ]
  },
  {
   "cell_type": "code",
   "execution_count": 4,
   "metadata": {},
   "outputs": [
    {
     "name": "stdin",
     "output_type": "stream",
     "text": [
      "Enter an integer:  2\n",
      "Enter another integer:  35\n"
     ]
    },
    {
     "name": "stdout",
     "output_type": "stream",
     "text": [
      "Your secret code is: (17, 14, 18, 21, 14, 10)\n"
     ]
    }
   ],
   "source": [
    "import random as r\n",
    "\n",
    "r.random()\n",
    "\n",
    "#request input for 2 numbers\n",
    "numb1 = int(input(\"Enter an integer: \"))\n",
    "numb2 = int(input(\"Enter another integer: \"))\n",
    "\n",
    "#process: randomly generate 6 numbers between the 2 numbers provided by user\n",
    "secret=(r.randint(numb1, numb2), r.randint(numb1, numb2), r.randint(numb1, numb2), r.randint(numb1, numb2), r.randint(numb1, numb2), r.randint(numb1, numb2))\n",
    "\n",
    "#output: create 6 digit secret code\n",
    "print(\"Your secret code is:\", secret)"
   ]
  },
  {
   "cell_type": "markdown",
   "metadata": {},
   "source": [
    "4.\n",
    "Write a program to center align below text where number of characters per line is 40.\n",
    "\n",
    "Output should look something like this:\n",
    "\n",
    "        Hickory, dickory, dock,        \n",
    "      The mouse ran up the clock.      \n",
    "         The clock struck one,         \n",
    "          The mouse ran down,          \n",
    "         Hickory, dickory, dock \n",
    "\n",
    "<b>Do not use string's center method! </b>"
   ]
  },
  {
   "cell_type": "code",
   "execution_count": 24,
   "metadata": {},
   "outputs": [
    {
     "name": "stdout",
     "output_type": "stream",
     "text": [
      "The Center Alignment Program\n"
     ]
    },
    {
     "name": "stdin",
     "output_type": "stream",
     "text": [
      "Please enter the character limit per line: 40\n"
     ]
    },
    {
     "name": "stdout",
     "output_type": "stream",
     "text": [
      "The number of characters in line1 is: 23\n",
      "The number of characters in line2 is: 27\n",
      "The number of characters in line3 is: 21\n",
      "The number of characters in line4 is: 19\n",
      "The number of characters in line4 is: 22\n",
      "The difference between the required length and the string1 length is: 17\n",
      "The difference between the required length and the string2 length is: 13\n",
      "The difference between the required length and the string3 length is: 19\n",
      "The difference between the required length and the string4 length is: 21\n",
      "The difference between the required length and the string5 length is: 18\n",
      "This program should flank line 1 with 8.5 number of spaces.\n",
      "This program should flank line 2 with 6.5 number of spaces.\n",
      "This program should flank line 3 with 9.5 number of spaces.\n",
      "This program should flank line 4 with 10.5 number of spaces.\n",
      "This program should flank line 5 with 9.0 number of spaces.\n",
      "1234567890123456789012345678901234567890\n",
      "        Hickory, dickory, dock,        \n",
      "      The mouse ran up the clock.      \n",
      "         The clock struck one,         \n",
      "          The mouse ran down,          \n",
      "         Hickory, dickory, dock         \n",
      "39\n",
      "39\n",
      "39\n",
      "39\n",
      "40\n"
     ]
    }
   ],
   "source": [
    "print(\"The Center Alignment Program\")\n",
    "\n",
    "limit=int(input(\"Please enter the character limit per line:\"))\n",
    "\n",
    "line1 = \"Hickory, dickory, dock,\"\n",
    "line2 = \"The mouse ran up the clock.\"\n",
    "line3 = \"The clock struck one,\"\n",
    "line4 = \"The mouse ran down,\"\n",
    "line5 = \"Hickory, dickory, dock\"\n",
    "\n",
    "#INPUT\n",
    "\n",
    "#provided the strings\n",
    "#provided the required string length\n",
    "#provided the output requirement\n",
    "\n",
    "#PROCESS\n",
    "\n",
    "#1. numb1, numb2, numb3, numb4, numb5 count the number of characters per string\n",
    "num1 = len(line1)\n",
    "print(\"The number of characters in line1 is:\", num1)\n",
    "\n",
    "num2 = len(line2)\n",
    "print(\"The number of characters in line2 is:\", num2)\n",
    "\n",
    "num3 = len(line3)\n",
    "print(\"The number of characters in line3 is:\", num3)\n",
    "\n",
    "num4 = len(line4)\n",
    "print(\"The number of characters in line4 is:\", num4)\n",
    "\n",
    "num5 = len(line5)\n",
    "print(\"The number of characters in line4 is:\", num5)\n",
    "\n",
    "#2. dif1, dif2, etc. calculate the difference between required length 40 and the number of characters per string\n",
    "dif1 = limit - num1\n",
    "print(\"The difference between the required length and the string1 length is:\", dif1)\n",
    "\n",
    "dif2 = limit - num2\n",
    "print(\"The difference between the required length and the string2 length is:\", dif2)\n",
    "\n",
    "dif3 = limit - num3\n",
    "print(\"The difference between the required length and the string3 length is:\", dif3)\n",
    "\n",
    "dif4 = limit - num4\n",
    "print(\"The difference between the required length and the string4 length is:\", dif4)\n",
    "\n",
    "dif5 = limit - num5\n",
    "print(\"The difference between the required length and the string5 length is:\", dif5)\n",
    "\n",
    "#3. space1, etc. calculate the number of spaces that should flank each string so that they can be centered\n",
    "space1 = dif1 / 2 \n",
    "print(\"This program should flank line 1 with\", space1, \"number of spaces.\")\n",
    "result1 = int(space1) * \" \"\n",
    "\n",
    "space2 = dif2 / 2 \n",
    "print(\"This program should flank line 2 with\", space2, \"number of spaces.\")\n",
    "result2 = int(space2) * \" \"\n",
    "\n",
    "space3 = dif3 / 2 \n",
    "print(\"This program should flank line 3 with\", space3, \"number of spaces.\")\n",
    "result3 = int(space3) * \" \"\n",
    "\n",
    "space4 = dif4 / 2 \n",
    "print(\"This program should flank line 4 with\", space4, \"number of spaces.\")\n",
    "result4 = int(space4) * \" \"\n",
    "\n",
    "space5 = dif5 / 2 \n",
    "print(\"This program should flank line 5 with\", space5, \"number of spaces.\")\n",
    "result5 = int(space5) * \" \"\n",
    "\n",
    "#4. repeat this process for all of the lines provided\n",
    "\n",
    "\n",
    "#OUTPUT\n",
    "\n",
    "#5. print the line1 through line5 with the number of spaces calculated in space1 through space5 flanking the string\n",
    "print(\"1234567890\"* int(limit/10))\n",
    "final1 = result1 + line1 + result1\n",
    "print(final1)\n",
    "\n",
    "final2 = result2 + line2 + result2\n",
    "print(final2)\n",
    "\n",
    "final3 = result3 + line3 + result3\n",
    "print(final3)\n",
    "\n",
    "final4 = result4 + line4 + result4\n",
    "print(final4)\n",
    "\n",
    "final5 = result5 + line5 + result5\n",
    "print(final5)\n",
    "\n",
    "#6. verify and print the length of each string including the spaces\n",
    "print(len(final1))\n",
    "print(len(final2))\n",
    "print(len(final3))\n",
    "print(len(final4))\n",
    "print(len(final5))\n",
    "\n",
    "##I ran into the issue that all my line lengths could not be 40 characters long because the number of characters within the string where an odd number. I do not think that we can a float number of spaces before or after a string, so I converted the float into an int before determining the number of spaces to flank the string by. \n",
    "##My output of the poem does match the requested output. \n",
    "## I believe that I could have simplified this code. I need to try again but this is my first attempt. Your feedback would be much appreciated. \n",
    "\n",
    "\n"
   ]
  },
  {
   "cell_type": "markdown",
   "metadata": {},
   "source": [
    "5. Write a function to calculate the miles per gallon.\n",
    "Get a miles driven and gallons used from a user and call your function to calculate the miles per gallon. "
   ]
  },
  {
   "cell_type": "code",
   "execution_count": 12,
   "metadata": {},
   "outputs": [
    {
     "name": "stdin",
     "output_type": "stream",
     "text": [
      "Please provide the miles driven: 10\n",
      "Please provide the gallons of gas used: 2\n"
     ]
    },
    {
     "name": "stdout",
     "output_type": "stream",
     "text": [
      "The miles per gallon calculation is: 5.0\n"
     ]
    }
   ],
   "source": [
    "#INPUT\n",
    "\n",
    "miles=float(input(\"Please provide the miles driven:\"))\n",
    "gallons=float(input(\"Please provide the gallons of gas used:\"))\n",
    "                    \n",
    "#PROCESS #calculate miles per gallon\n",
    "                    \n",
    "def divide(miles, gallons=1):\n",
    "    return miles / gallons\n",
    "    \n",
    "#OUTPUT\n",
    "print(\"The miles per gallon calculation is:\", divide(miles/gallons))\n",
    "\n"
   ]
  },
  {
   "cell_type": "code",
   "execution_count": null,
   "metadata": {},
   "outputs": [],
   "source": []
  }
 ],
 "metadata": {
  "kernelspec": {
   "display_name": "Python 3 (ipykernel)",
   "language": "python",
   "name": "python3"
  },
  "language_info": {
   "codemirror_mode": {
    "name": "ipython",
    "version": 3
   },
   "file_extension": ".py",
   "mimetype": "text/x-python",
   "name": "python",
   "nbconvert_exporter": "python",
   "pygments_lexer": "ipython3",
   "version": "3.11.7"
  }
 },
 "nbformat": 4,
 "nbformat_minor": 4
}
